{
 "cells": [
  {
   "cell_type": "code",
   "execution_count": 27,
   "id": "79c1a402",
   "metadata": {},
   "outputs": [
    {
     "data": {
      "text/plain": [
       "True"
      ]
     },
     "execution_count": 27,
     "metadata": {},
     "output_type": "execute_result"
    }
   ],
   "source": [
    "import numpy as np\n",
    "import cv2\n",
    "\n",
    "path = 'output/crop_full_matches.npz'\n",
    "npz = np.load(path)\n",
    "\n",
    "valid_matches = npz['matches'] != -1\n",
    "Matched_keyPoint_1 = npz['keypoints0'][valid_matches]\n",
    "Matched_keyPoint_2 = npz['keypoints1'][npz['matches'][valid_matches]]\n",
    "\n",
    "# Convert keypoints to numpy arrays\n",
    "Matched_keyPoint_1 = np.float32(Matched_keyPoint_1)\n",
    "Matched_keyPoint_2 = np.float32(Matched_keyPoint_2)\n",
    "\n",
    "# Estimate the homography matrix between the two images using RANSAC\n",
    "H, _ = cv2.findHomography(Matched_keyPoint_1, Matched_keyPoint_2, cv2.RANSAC, 4.0)\n",
    "\n",
    "# Load the two images\n",
    "img1 = cv2.imread('./input/crop.png')\n",
    "img2 = cv2.imread('./input/full.png')\n",
    "\n",
    "# Warp image 1 to align with image 2\n",
    "result = cv2.warpPerspective(img1, H, (img2.shape[1], img2.shape[0]))\n",
    "\n",
    "cv2.imwrite(\"Alligned_img1.png\",result)\n",
    "img_aligned = np.concatenate((result, img2), axis=1)\n",
    "cv2.imwrite(\"allign.png\",img_aligned)"
   ]
  },
  {
   "cell_type": "code",
   "execution_count": 42,
   "id": "63c8cf31",
   "metadata": {},
   "outputs": [
    {
     "name": "stdout",
     "output_type": "stream",
     "text": [
      "jkjk\n"
     ]
    },
    {
     "data": {
      "text/plain": [
       "True"
      ]
     },
     "execution_count": 42,
     "metadata": {},
     "output_type": "execute_result"
    }
   ],
   "source": [
    "#creating boundary box\n",
    "import cv2\n",
    "\n",
    "# Load the color checker image\n",
    "#img = cv2.imread('./input/full.png')\n",
    "img = cv2.imread('Alligned_img1.png')\n",
    "\n",
    "# Convert to grayscale\n",
    "gray = cv2.cvtColor(img, cv2.COLOR_BGR2GRAY)\n",
    "\n",
    "# Threshold the image to get a binary mask\n",
    "_, thresh = cv2.threshold(gray, 0, 255, cv2.THRESH_BINARY)\n",
    "\n",
    "# Find contours in the binary mask\n",
    "contours, hierarchy = cv2.findContours(thresh, cv2.RETR_TREE, cv2.CHAIN_APPROX_SIMPLE)\n",
    "\n",
    "# Draw bounding boxes around each contour\n",
    "for contour in contours:\n",
    "    if cv2.contourArea(contour) < 5000:\n",
    "        x, y, w, h = cv2.boundingRect(contour)\n",
    "        cv2.rectangle(img, (x, y), (x+w, y+h), (0, 255, 0), 2)\n",
    "\n",
    "# Display the image with bounding boxes\n",
    "cv2.imwrite('Image with Bounding Boxes.png', img)"
   ]
  },
  {
   "cell_type": "code",
   "execution_count": null,
   "id": "9211a050",
   "metadata": {},
   "outputs": [],
   "source": [
    "import numpy as np\n",
    "\n",
    "# Generate random input and output data\n",
    "X = np.random.rand(12, 3, 1)\n",
    "Y = np.random.rand(12, 3, 1)\n",
    "\n",
    "# Flatten the input and output arrays\n",
    "X = X.reshape((12, 3))\n",
    "Y = Y.reshape((12, 3))\n",
    "\n",
    "# Add bias term to input data\n",
    "X = np.concatenate((X, np.ones((12, 1))), axis=1)\n",
    "\n",
    "# Use least squares to solve for the weight matrix\n",
    "W = np.linalg.lstsq(X, Y, rcond=None)[0]\n",
    "\n",
    "print(W)"
   ]
  }
 ],
 "metadata": {
  "kernelspec": {
   "display_name": "Python 3 (ipykernel)",
   "language": "python",
   "name": "python3"
  },
  "language_info": {
   "codemirror_mode": {
    "name": "ipython",
    "version": 3
   },
   "file_extension": ".py",
   "mimetype": "text/x-python",
   "name": "python",
   "nbconvert_exporter": "python",
   "pygments_lexer": "ipython3",
   "version": "3.9.13"
  }
 },
 "nbformat": 4,
 "nbformat_minor": 5
}
