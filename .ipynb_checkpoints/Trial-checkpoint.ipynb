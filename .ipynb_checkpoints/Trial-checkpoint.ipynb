{
 "cells": [
  {
   "cell_type": "code",
   "execution_count": 2,
   "id": "65656f04",
   "metadata": {},
   "outputs": [
    {
     "name": "stdout",
     "output_type": "stream",
     "text": [
      "[[234 186 164]\n",
      " [ 53  37 111]\n",
      " [226 103  36]\n",
      " [206 163 146]\n",
      " [ 92 116  28]\n",
      " [ 81  55 124]\n",
      " [187 106  80]\n",
      " [178 139 124]\n",
      " [191  50  32]\n",
      " [199  70  59]\n",
      " [ 90  73  91]\n",
      " [131  96  83]\n",
      " [218 156  19]\n",
      " [ 95  25  62]\n",
      " [ 77  60   4]\n",
      " [ 80  53  42]\n",
      " [206  65 108]\n",
      " [153 138  11]\n",
      " [132  76 106]\n",
      " [ 41  24  17]\n",
      " [ 56  82 107]\n",
      " [210 119  14]\n",
      " [111 123  94]]\n"
     ]
    }
   ],
   "source": [
    "import numpy as np\n",
    "from PIL import Image, ImageDraw\n",
    "\n",
    "image = Image.open('./input/crop.png')\n",
    "\n",
    "pixels_cropped=((170, 60),(240,70),(310,80),\n",
    "       (150, 150),(220,160),(290,170),(350,180),\n",
    "       (140, 230),(210,240),(280,250),(340,260),\n",
    "       (120, 320),(190,330),(270,340),(330,350),\n",
    "       (110, 400),(180,410),(250,420),(320,430),\n",
    "       (90, 480),(160,490),(230,500),(300,510))\n",
    "\n",
    "input_array=[]\n",
    "for i in range(23):\n",
    "    pixel_value = image.getpixel(pixels_cropped[i])\n",
    "    rgb_value=[pixel_value[0],pixel_value[1],pixel_value[2]]\n",
    "    input_array.append(rgb_value)\n",
    "\n",
    "    # Draw a white point on the pixel\n",
    "    draw = ImageDraw.Draw(image)\n",
    "    draw.point(pixels_cropped[i], fill=(255, 255, 255))  # (255, 255, 255) is white\n",
    "    del draw \n",
    "\n",
    "np_input = np.array(input_array)\n",
    "print(np_input)\n",
    "image.save('modified_crop_example.png')\n",
    "#This have to change according to input data"
   ]
  },
  {
   "cell_type": "code",
   "execution_count": 3,
   "id": "1fa024f2",
   "metadata": {},
   "outputs": [
    {
     "name": "stdout",
     "output_type": "stream",
     "text": [
      "[[243 243 242]\n",
      " [ 56  61 150]\n",
      " [214 126  44]\n",
      " [200 200 200]\n",
      " [ 70 148  73]\n",
      " [ 80  91 166]\n",
      " [194 150 130]\n",
      " [160 160 160]\n",
      " [175  54  60]\n",
      " [193  90  99]\n",
      " [ 98 122 157]\n",
      " [122 122 121]\n",
      " [231 199  31]\n",
      " [ 94  60 108]\n",
      " [ 87 108  67]\n",
      " [ 85  85  85]\n",
      " [187  86 149]\n",
      " [157 188  64]\n",
      " [133 128 177]\n",
      " [ 52  52  52]\n",
      " [  8 133 161]\n",
      " [224 163  46]\n",
      " [103 189 170]]\n"
     ]
    },
    {
     "data": {
      "image/png": "[encoded data removed]",
      "text/plain": [
       "<Figure size 640x480 with 1 Axes>"
      ]
     },
     "metadata": {},
     "output_type": "display_data"
    }
   ],
   "source": [
    "from matplotlib import image\n",
    "from matplotlib import pyplot as plt\n",
    "# to read the image stored in the working directory\n",
    "data = image.imread('./input/full.png')\n",
    "image = Image.open('./input/full.png')\n",
    "\n",
    "pixels_in_full=((290, 150),(350,150),(410,150),\n",
    "       (290, 210),(350,210),(410,210),(470,210),\n",
    "       (290, 265),(350,265),(410,265),(470,265),\n",
    "       (290, 330),(350,330),(410,330),(470,330),\n",
    "       (290, 390),(350,390),(410,390),(470,390),\n",
    "       (290, 450),(350,450),(410,450),(470,450))\n",
    "\n",
    "target_array=[]\n",
    "for i in range(23):\n",
    "    pixel_value =  image.getpixel(pixels_in_full[i])\n",
    "    rgb_value=[pixel_value[0],pixel_value[1],pixel_value[2]]\n",
    "    target_array.append(rgb_value)\n",
    "    \n",
    "    plt.plot(pixels_in_full[i][0], pixels_in_full[i][1], marker='v', color=\"black\")\n",
    "    \n",
    "plt.imshow(data)\n",
    "plt.savefig('modified_full_example.png')\n",
    "\n",
    "np_target = np.array(target_array)\n",
    "print(np_target)\n",
    "\n",
    "#This does not have to change"
   ]
  },
  {
   "cell_type": "code",
   "execution_count": 4,
   "id": "92489efc",
   "metadata": {},
   "outputs": [],
   "source": [
    "import torch\n",
    "import torch.nn as nn\n",
    "import torch.optim as optim\n",
    "import numpy as np\n",
    "\n",
    "# Define the linear regression model\n",
    "class LinearRegression(nn.Module):\n",
    "    def __init__(self, input_size, output_size):\n",
    "        super(LinearRegression, self).__init__()\n",
    "        self.linear = nn.Linear(input_size, output_size)\n",
    "\n",
    "    def forward(self, x):\n",
    "        out = self.linear(x)\n",
    "        return out\n",
    "\n",
    "inputs = np_input\n",
    "targets = np_target\n",
    "\n",
    "# Convert the data to PyTorch tensors\n",
    "inputs = torch.from_numpy(inputs).float()\n",
    "targets = torch.from_numpy(targets).float()\n",
    "\n"
   ]
  },
  {
   "cell_type": "code",
   "execution_count": 52,
   "id": "6aec3ce3",
   "metadata": {},
   "outputs": [
    {
     "name": "stdout",
     "output_type": "stream",
     "text": [
      "Epoch [10000/300000], Loss: 146.0386\n",
      "Epoch [20000/300000], Loss: 116.2718\n",
      "Epoch [30000/300000], Loss: 87.8304\n",
      "Epoch [40000/300000], Loss: 63.7947\n",
      "Epoch [50000/300000], Loss: 48.7050\n",
      "Epoch [60000/300000], Loss: 39.9982\n",
      "Epoch [70000/300000], Loss: 35.3871\n",
      "Epoch [80000/300000], Loss: 31.8394\n",
      "Epoch [90000/300000], Loss: 28.4696\n",
      "Epoch [100000/300000], Loss: 25.2889\n",
      "Epoch [110000/300000], Loss: 22.3787\n",
      "Epoch [120000/300000], Loss: 19.5596\n",
      "Epoch [130000/300000], Loss: 16.9244\n",
      "Epoch [140000/300000], Loss: 14.8181\n",
      "Epoch [150000/300000], Loss: 13.3185\n",
      "Epoch [160000/300000], Loss: 12.9663\n",
      "Epoch [170000/300000], Loss: 12.8929\n",
      "Epoch [180000/300000], Loss: 12.8780\n",
      "Epoch [190000/300000], Loss: 12.8631\n",
      "Epoch [200000/300000], Loss: 12.8482\n",
      "Epoch [210000/300000], Loss: 12.8332\n",
      "Epoch [220000/300000], Loss: 12.8183\n",
      "Epoch [230000/300000], Loss: 12.8034\n",
      "Epoch [240000/300000], Loss: 12.7885\n",
      "Epoch [250000/300000], Loss: 12.7736\n",
      "Epoch [260000/300000], Loss: 12.7587\n",
      "Epoch [270000/300000], Loss: 12.7438\n",
      "Epoch [280000/300000], Loss: 12.7289\n",
      "Epoch [290000/300000], Loss: 12.7140\n",
      "Epoch [300000/300000], Loss: 12.6990\n"
     ]
    }
   ],
   "source": [
    "# Define the model, loss function, and optimizer\n",
    "model = LinearRegression(3, 3)\n",
    "criterion = nn.L1Loss()\n",
    "#optimizer = optim.SGD(model.parameters(), lr=0.0000001)\n",
    "optimizer = optim.Adam(model.parameters(), lr=0.00001)\n",
    "\n",
    "# Train the model\n",
    "n_epochs = 300000\n",
    "for epoch in range(n_epochs):\n",
    "    # Forward pass\n",
    "    outputs = model(inputs)\n",
    "    #print(outputs)\n",
    "    loss = criterion(outputs, targets)\n",
    "    \n",
    "\n",
    "    # Backward and optimize\n",
    "    optimizer.zero_grad()\n",
    "    loss.backward()\n",
    "    optimizer.step()\n",
    "\n",
    "    # Print progress\n",
    "    if (epoch+1) % 10000 == 0:\n",
    "        print('Epoch [{}/{}], Loss: {:.4f}'.format(epoch+1, n_epochs, loss.item()))\n",
    "\n",
    "torch.save(model.state_dict(), 'model.pth')"
   ]
  },
  {
   "cell_type": "code",
   "execution_count": 55,
   "id": "73a7e4d1",
   "metadata": {},
   "outputs": [
    {
     "name": "stdout",
     "output_type": "stream",
     "text": [
      "Predicted output: tensor([[102.1803, 146.7752, 152.0214]], grad_fn=<AddmmBackward0>)\n"
     ]
    }
   ],
   "source": [
    "# Test the model by predicting the output for a new input\n",
    "model=LinearRegression(3, 3)\n",
    "model.load_state_dict(torch.load('model.pth'))\n",
    "model.eval()\n",
    "test_input = torch.tensor([[100.0, 100.0, 100.0]])\n",
    "predicted_output = model(test_input)\n",
    "print('Predicted output:', predicted_output)"
   ]
  },
  {
   "cell_type": "code",
   "execution_count": 51,
   "id": "3e20f256",
   "metadata": {},
   "outputs": [],
   "source": [
    "import math\n",
    "\n",
    "image = Image.open('./input/crop_1_30.jpg')\n",
    "\n",
    "# Get shape of image\n",
    "width, height = image.size\n",
    "model.eval()\n",
    "\n",
    "for x in range(width):\n",
    "    for y in range(height):\n",
    "        pixel = image.getpixel((x, y))\n",
    "        pixel_tensor = torch.tensor([[pixel[0], pixel[1], pixel[2]]], dtype=torch.float)\n",
    "        output=model(pixel_tensor)\n",
    "        new_pixel=(math.ceil(output[0][0].item()),math.ceil(output[0][1].item()),math.ceil(output[0][2].item()))\n",
    "        new_pixel=tuple(min(val, 255) for val in new_pixel)\n",
    "        #print(new_pixel)\n",
    "        image.putpixel((x, y),new_pixel)\n",
    "image.show()"
   ]
  },
  {
   "cell_type": "code",
   "execution_count": null,
   "id": "684936e2",
   "metadata": {},
   "outputs": [],
   "source": []
  }
 ],
 "metadata": {
  "kernelspec": {
   "display_name": "Python 3 (ipykernel)",
   "language": "python",
   "name": "python3"
  },
  "language_info": {
   "codemirror_mode": {
    "name": "ipython",
    "version": 3
   },
   "file_extension": ".py",
   "mimetype": "text/x-python",
   "name": "python",
   "nbconvert_exporter": "python",
   "pygments_lexer": "ipython3",
   "version": "3.9.13"
  }
 },
 "nbformat": 4,
 "nbformat_minor": 5
}
